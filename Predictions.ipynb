{
 "cells": [
  {
   "cell_type": "markdown",
   "metadata": {},
   "source": [
    "# Customer calls prediction"
   ]
  },
  {
   "cell_type": "code",
   "execution_count": 14,
   "metadata": {
    "collapsed": true
   },
   "outputs": [],
   "source": [
    "%matplotlib inline\n",
    "import matplotlib.pyplot as plt\n",
    "import os\n",
    "import pandas as pd\n",
    "from sklearn.svm import SVC\n",
    "from sklearn.naive_bayes import MultinomialNB\n",
    "from sklearn.metrics import f1_score, roc_auc_score\n",
    "from sklearn.model_selection import StratifiedKFold, StratifiedShuffleSplit\n",
    "from imblearn.over_sampling import SMOTE\n",
    "import numpy as np\n",
    "from sklearn.model_selection import RandomizedSearchCV, GridSearchCV"
   ]
  },
  {
   "cell_type": "code",
   "execution_count": 7,
   "metadata": {
    "collapsed": false
   },
   "outputs": [],
   "source": [
    "main_df = pd.read_csv('df_flagged_extra.csv')"
   ]
  },
  {
   "cell_type": "code",
   "execution_count": 8,
   "metadata": {
    "collapsed": true
   },
   "outputs": [],
   "source": [
    "words_pca = np.load('./corp_reducted.dmp.npy')"
   ]
  },
  {
   "cell_type": "code",
   "execution_count": 9,
   "metadata": {
    "collapsed": true
   },
   "outputs": [],
   "source": [
    "words_pca_ex = np.load('./corp_reducted_ex.dmp.npy')"
   ]
  },
  {
   "cell_type": "code",
   "execution_count": 11,
   "metadata": {
    "collapsed": false
   },
   "outputs": [],
   "source": [
    "train_X = np.concatenate( (words_pca,\n",
    "                main_df.no_links.ravel().reshape(len(main_df.no_codeblock), 1),\n",
    "                main_df.no_links.ravel().reshape(len(main_df.no_images), 1), \n",
    "                main_df.no_images.ravel().reshape(len(main_df.no_links), 1)), axis=1)\n",
    "\n",
    "train_X_ex = np.concatenate( (words_pca_ex,\n",
    "                main_df.no_links.ravel().reshape(len(main_df.no_codeblock), 1),\n",
    "                main_df.no_links.ravel().reshape(len(main_df.no_images), 1), \n",
    "                main_df.no_images.ravel().reshape(len(main_df.no_links), 1)), axis=1)"
   ]
  },
  {
   "cell_type": "code",
   "execution_count": 13,
   "metadata": {
    "collapsed": false
   },
   "outputs": [],
   "source": [
    "shuffleSplit = StratifiedShuffleSplit(n_splits=1, test_size=0.2, random_state=13)\n",
    "first_split = shuffleSplit.split(train_X, main_df.has_support_case)\n",
    "\n",
    "train_indx = []\n",
    "test_indx = []\n",
    "for train_i, test_i in first_split:\n",
    "    train_indx = train_i\n",
    "    test_indx = test_i"
   ]
  },
  {
   "cell_type": "code",
   "execution_count": 44,
   "metadata": {
    "collapsed": true
   },
   "outputs": [],
   "source": [
    "def find_best_classifier(clf, scoring_val, search_params, useEx=False, useCombined=False):\n",
    "    rsearch = RandomizedSearchCV(clf, search_params, scoring=scoring_val, n_jobs=3, n_iter=25)\n",
    "    if useEx:\n",
    "        tt_X = train_X_ex\n",
    "    else:\n",
    "        tt_X = train_X\n",
    "    if useCombined:\n",
    "        if useEx:\n",
    "            train_collection = X_comb_ex\n",
    "            train_outcome = y_comb_ex\n",
    "        else:\n",
    "            train_collection = X_comb\n",
    "            train_outcome = y_comb\n",
    "    else:\n",
    "        train_collection = tt_X[train_indx, :]\n",
    "        train_outcome = main_df.has_support_case.ravel()[train_indx]\n",
    "    rsearch.fit(train_collection, train_outcome)\n",
    "    print(u\"Training score {:.2f}, \\n Hyper params: {} \\n\".format( rsearch.best_score_, rsearch.best_params_) )\n",
    "    y_test  = rsearch.best_estimator_.predict(tt_X[test_indx, :])\n",
    "    auc_test = roc_auc_score(main_df.has_support_case.ravel()[test_indx], y_test)\n",
    "    f1_test = f1_score(main_df.has_support_case.ravel()[test_indx], y_test)\n",
    "    \n",
    "    print(\"Test score: AUC = {:.2f}  F1 = {:.2f}\".format(auc_test, f1_test))"
   ]
  },
  {
   "cell_type": "markdown",
   "metadata": {},
   "source": [
    "## SVM classifier"
   ]
  },
  {
   "cell_type": "code",
   "execution_count": 30,
   "metadata": {
    "collapsed": false
   },
   "outputs": [
    {
     "name": "stdout",
     "output_type": "stream",
     "text": [
      "Train AUC : 0.51 \n",
      "Train F1: 0.03\n",
      "Test AUC : 0.50 \n",
      "Test F1: 0.00\n"
     ]
    },
    {
     "name": "stderr",
     "output_type": "stream",
     "text": [
      "/home/kliton/anaconda3/lib/python3.5/site-packages/sklearn/metrics/classification.py:1135: UndefinedMetricWarning: F-score is ill-defined and being set to 0.0 due to no predicted samples.\n",
      "  'precision', 'predicted', average, warn_for)\n"
     ]
    }
   ],
   "source": [
    "svc_class = SVC()\n",
    "svc_class.fit(train_X[train_indx, :], main_df.has_support_case.ravel()[train_indx])\n",
    "prediction_svc = svc_class.predict(train_X[train_indx, :])\n",
    "print(u\"Train AUC : {:.2f} \\nTrain F1: {:.2f}\".format(roc_auc_score(main_df.has_support_case.ravel()[train_indx], prediction_svc),\n",
    "                                                     f1_score(main_df.has_support_case.ravel()[train_indx], prediction_svc)))\n",
    "prediction_svc = svc_class.predict(train_X[test_indx, :])\n",
    "\n",
    "print(u\"Test AUC : {:.2f} \\nTest F1: {:.2f}\".format(roc_auc_score(main_df.has_support_case.ravel()[test_indx], prediction_svc),\n",
    "                                                   f1_score(main_df.has_support_case.ravel()[test_indx], prediction_svc)))"
   ]
  },
  {
   "cell_type": "code",
   "execution_count": 20,
   "metadata": {
    "collapsed": false
   },
   "outputs": [
    {
     "name": "stdout",
     "output_type": "stream",
     "text": [
      "Training score 0.76, \n",
      " Hyper params: {'gamma': 9.9999999999999995e-07, 'C': 10000000.0} \n",
      "\n",
      "Test score: AUC = 0.71  F1 = 0.51\n"
     ]
    }
   ],
   "source": [
    "parameter_distrib = {\"C\":np.logspace(-2, 10, num=5),\n",
    "                    \"gamma\": np.logspace(-9, 3, num=5)}\n",
    "\n",
    "find_best_classifier(SVC(), \"roc_auc\", parameter_distrib)"
   ]
  },
  {
   "cell_type": "code",
   "execution_count": 27,
   "metadata": {
    "collapsed": false
   },
   "outputs": [
    {
     "name": "stdout",
     "output_type": "stream",
     "text": [
      "Training score 0.45, \n",
      " Hyper params: {'gamma': 9.9999999999999995e-07, 'C': 10000000.0} \n",
      "\n",
      "Test score: AUC = 0.71  F1 = 0.51\n"
     ]
    }
   ],
   "source": [
    "import warnings\n",
    "with warnings.catch_warnings():\n",
    "    warnings.simplefilter('ignore')\n",
    "    find_best_classifier(SVC(), 'f1', parameter_distrib)"
   ]
  },
  {
   "cell_type": "markdown",
   "metadata": {},
   "source": [
    "## Naive Bayes Classifier"
   ]
  },
  {
   "cell_type": "code",
   "execution_count": 33,
   "metadata": {
    "collapsed": false
   },
   "outputs": [
    {
     "name": "stdout",
     "output_type": "stream",
     "text": [
      "Train AUC : 0.56 \n",
      "Train F1: 0.28\n",
      "Test AUC : 0.50 \n",
      "Test F1: 0.00\n"
     ]
    },
    {
     "name": "stderr",
     "output_type": "stream",
     "text": [
      "/home/kliton/anaconda3/lib/python3.5/site-packages/sklearn/metrics/classification.py:1135: UndefinedMetricWarning: F-score is ill-defined and being set to 0.0 due to no predicted samples.\n",
      "  'precision', 'predicted', average, warn_for)\n"
     ]
    }
   ],
   "source": [
    "nb_class = MultinomialNB()\n",
    "nb_class.fit(train_X_ex[train_indx, :], main_df.has_support_case.ravel()[train_indx])\n",
    "prediction_nb = nb_class.predict(train_X_ex[train_indx, :])\n",
    "print(u\"Train AUC : {:.2f} \\nTrain F1: {:.2f}\".format(roc_auc_score(main_df.has_support_case.ravel()[train_indx], prediction_nb),\n",
    "                                                     f1_score(main_df.has_support_case.ravel()[train_indx], prediction_nb)))\n",
    "prediction_nb = svc_class.predict(train_X_ex[test_indx, :])\n",
    "\n",
    "print(u\"Test AUC : {:.2f} \\nTest F1: {:.2f}\".format(roc_auc_score(main_df.has_support_case.ravel()[test_indx], prediction_nb),\n",
    "                                                   f1_score(main_df.has_support_case.ravel()[test_indx], prediction_nb)))"
   ]
  },
  {
   "cell_type": "code",
   "execution_count": 22,
   "metadata": {
    "collapsed": false,
    "scrolled": true
   },
   "outputs": [
    {
     "name": "stdout",
     "output_type": "stream",
     "text": [
      "Training score 0.63, \n",
      " Hyper params: {'alpha': 5.9183673469387754} \n",
      "\n",
      "Test score: AUC = 0.60  F1 = 0.33\n"
     ]
    }
   ],
   "source": [
    "find_best_classifier(MultinomialNB(), \"roc_auc\", {\"alpha\":np.linspace(0, 10)}, useEx=True)"
   ]
  },
  {
   "cell_type": "code",
   "execution_count": 40,
   "metadata": {
    "collapsed": false
   },
   "outputs": [
    {
     "name": "stderr",
     "output_type": "stream",
     "text": [
      "/home/kliton/anaconda3/lib/python3.5/site-packages/sklearn/naive_bayes.py:472: UserWarning: alpha too small will result in numeric errors, setting alpha = 1.0e-10\n",
      "  'setting alpha = %.1e' % _ALPHA_MIN)\n",
      "/home/kliton/anaconda3/lib/python3.5/site-packages/sklearn/naive_bayes.py:472: UserWarning: alpha too small will result in numeric errors, setting alpha = 1.0e-10\n",
      "  'setting alpha = %.1e' % _ALPHA_MIN)\n",
      "/home/kliton/anaconda3/lib/python3.5/site-packages/sklearn/naive_bayes.py:472: UserWarning: alpha too small will result in numeric errors, setting alpha = 1.0e-10\n",
      "  'setting alpha = %.1e' % _ALPHA_MIN)\n"
     ]
    },
    {
     "name": "stdout",
     "output_type": "stream",
     "text": [
      "Training score 0.29, \n",
      " Hyper params: {'alpha': 1.0204081632653061} \n",
      "\n",
      "Test score: AUC = 0.60  F1 = 0.33\n"
     ]
    }
   ],
   "source": [
    "find_best_classifier(MultinomialNB(), \"f1\", {\"alpha\":np.linspace(0, 10)}, useEx=True)"
   ]
  },
  {
   "cell_type": "markdown",
   "metadata": {},
   "source": [
    "Using SMOTE "
   ]
  },
  {
   "cell_type": "code",
   "execution_count": 34,
   "metadata": {
    "collapsed": true
   },
   "outputs": [],
   "source": [
    "from imblearn.combine import SMOTEENN"
   ]
  },
  {
   "cell_type": "code",
   "execution_count": 78,
   "metadata": {
    "collapsed": false
   },
   "outputs": [],
   "source": [
    "sme = SMOTEENN(1.0,random_state=13)\n",
    "X_comb, y_comb = SMOTE( random_state=True, kind='svm').fit_sample(train_X[train_indx, :], main_df.has_support_case.ravel()[train_indx])"
   ]
  },
  {
   "cell_type": "code",
   "execution_count": 59,
   "metadata": {
    "collapsed": false
   },
   "outputs": [],
   "source": [
    "X_comb_ex, y_comb_ex = sme.fit_sample(train_X_ex[train_indx, :], main_df.has_support_case.ravel()[train_indx])"
   ]
  },
  {
   "cell_type": "code",
   "execution_count": 79,
   "metadata": {
    "collapsed": false
   },
   "outputs": [
    {
     "name": "stdout",
     "output_type": "stream",
     "text": [
      "Training score 0.96, \n",
      " Hyper params: {'gamma': 0.001, 'C': 10000.0} \n",
      "\n",
      "Test score: AUC = 0.68  F1 = 0.46\n"
     ]
    }
   ],
   "source": [
    "find_best_classifier(SVC(), \"roc_auc\", parameter_distrib, useCombined=True)"
   ]
  },
  {
   "cell_type": "code",
   "execution_count": 45,
   "metadata": {
    "collapsed": false
   },
   "outputs": [
    {
     "name": "stderr",
     "output_type": "stream",
     "text": [
      "/home/kliton/anaconda3/lib/python3.5/site-packages/sklearn/naive_bayes.py:472: UserWarning: alpha too small will result in numeric errors, setting alpha = 1.0e-10\n",
      "  'setting alpha = %.1e' % _ALPHA_MIN)\n",
      "/home/kliton/anaconda3/lib/python3.5/site-packages/sklearn/naive_bayes.py:472: UserWarning: alpha too small will result in numeric errors, setting alpha = 1.0e-10\n",
      "  'setting alpha = %.1e' % _ALPHA_MIN)\n",
      "/home/kliton/anaconda3/lib/python3.5/site-packages/sklearn/naive_bayes.py:472: UserWarning: alpha too small will result in numeric errors, setting alpha = 1.0e-10\n",
      "  'setting alpha = %.1e' % _ALPHA_MIN)\n"
     ]
    },
    {
     "name": "stdout",
     "output_type": "stream",
     "text": [
      "Training score 0.63, \n",
      " Hyper params: {'alpha': 0.0} \n",
      "\n",
      "Test score: AUC = 0.50  F1 = 0.26\n"
     ]
    },
    {
     "name": "stderr",
     "output_type": "stream",
     "text": [
      "/home/kliton/anaconda3/lib/python3.5/site-packages/sklearn/naive_bayes.py:472: UserWarning: alpha too small will result in numeric errors, setting alpha = 1.0e-10\n",
      "  'setting alpha = %.1e' % _ALPHA_MIN)\n"
     ]
    }
   ],
   "source": [
    "find_best_classifier(MultinomialNB(), \"roc_auc\", {\"alpha\":np.linspace(0, 10)}, useEx=True, useCombined=True)"
   ]
  },
  {
   "cell_type": "code",
   "execution_count": 80,
   "metadata": {
    "collapsed": false
   },
   "outputs": [
    {
     "data": {
      "text/plain": [
       "(574, 156, 1358)"
      ]
     },
     "execution_count": 80,
     "metadata": {},
     "output_type": "execute_result"
    }
   ],
   "source": [
    "sum(y_comb), sum(main_df.has_support_case.ravel()[train_indx]), len(y_comb)"
   ]
  },
  {
   "cell_type": "code",
   "execution_count": 67,
   "metadata": {
    "collapsed": true
   },
   "outputs": [],
   "source": [
    "from imblearn.under_sampling import RandomUnderSampler\n",
    "from imblearn.over_sampling import RandomOverSampler"
   ]
  },
  {
   "cell_type": "code",
   "execution_count": 50,
   "metadata": {
    "collapsed": true
   },
   "outputs": [],
   "source": [
    "X_comb, y_comb = RandomUnderSampler(random_state=13).fit_sample(train_X[train_indx, :], main_df.has_support_case.ravel()[train_indx])\n",
    "X_comb_ex, y_comb_ex = RandomUnderSampler(random_state=13).fit_sample(train_X_ex[train_indx, :], main_df.has_support_case.ravel()[train_indx])"
   ]
  },
  {
   "cell_type": "code",
   "execution_count": 71,
   "metadata": {
    "collapsed": false
   },
   "outputs": [],
   "source": [
    "X_comb, y_comb = RandomOverSampler(random_state=13).fit_sample(train_X[train_indx, :], main_df.has_support_case.ravel()[train_indx])\n",
    "X_comb_ex, y_comb_ex = RandomOverSampler(random_state=13).fit_sample(train_X_ex[train_indx, :], main_df.has_support_case.ravel()[train_indx])"
   ]
  },
  {
   "cell_type": "code",
   "execution_count": 72,
   "metadata": {
    "collapsed": false
   },
   "outputs": [
    {
     "name": "stdout",
     "output_type": "stream",
     "text": [
      "Training score 1.00, \n",
      " Hyper params: {'gamma': 1.0, 'C': 10.0} \n",
      "\n",
      "Test score: AUC = 0.52  F1 = 0.10\n"
     ]
    }
   ],
   "source": [
    "find_best_classifier(SVC(), \"roc_auc\", parameter_distrib, useCombined=True)"
   ]
  },
  {
   "cell_type": "code",
   "execution_count": 52,
   "metadata": {
    "collapsed": false
   },
   "outputs": [
    {
     "name": "stderr",
     "output_type": "stream",
     "text": [
      "/home/kliton/anaconda3/lib/python3.5/site-packages/sklearn/naive_bayes.py:472: UserWarning: alpha too small will result in numeric errors, setting alpha = 1.0e-10\n",
      "  'setting alpha = %.1e' % _ALPHA_MIN)\n",
      "/home/kliton/anaconda3/lib/python3.5/site-packages/sklearn/naive_bayes.py:472: UserWarning: alpha too small will result in numeric errors, setting alpha = 1.0e-10\n",
      "  'setting alpha = %.1e' % _ALPHA_MIN)\n",
      "/home/kliton/anaconda3/lib/python3.5/site-packages/sklearn/naive_bayes.py:472: UserWarning: alpha too small will result in numeric errors, setting alpha = 1.0e-10\n",
      "  'setting alpha = %.1e' % _ALPHA_MIN)\n"
     ]
    },
    {
     "name": "stdout",
     "output_type": "stream",
     "text": [
      "Training score 0.61, \n",
      " Hyper params: {'alpha': 0.0} \n",
      "\n",
      "Test score: AUC = 0.64  F1 = 0.38\n"
     ]
    },
    {
     "name": "stderr",
     "output_type": "stream",
     "text": [
      "/home/kliton/anaconda3/lib/python3.5/site-packages/sklearn/naive_bayes.py:472: UserWarning: alpha too small will result in numeric errors, setting alpha = 1.0e-10\n",
      "  'setting alpha = %.1e' % _ALPHA_MIN)\n"
     ]
    }
   ],
   "source": [
    "find_best_classifier(MultinomialNB(), \"roc_auc\", {\"alpha\":np.linspace(0, 10)}, useEx=True, useCombined=True)"
   ]
  },
  {
   "cell_type": "code",
   "execution_count": 53,
   "metadata": {
    "collapsed": false
   },
   "outputs": [
    {
     "name": "stdout",
     "output_type": "stream",
     "text": [
      "Training score 0.71, \n",
      " Hyper params: {'gamma': 1.0000000000000001e-09, 'C': 10.0} \n",
      "\n",
      "Test score: AUC = 0.73  F1 = 0.47\n"
     ]
    }
   ],
   "source": [
    "find_best_classifier(SVC(kernel='linear'), \"roc_auc\", parameter_distrib, useCombined=True)"
   ]
  },
  {
   "cell_type": "code",
   "execution_count": 56,
   "metadata": {
    "collapsed": false
   },
   "outputs": [
    {
     "name": "stdout",
     "output_type": "stream",
     "text": [
      "Training score 0.78, \n",
      " Hyper params: {'gamma': 9.9999999999999995e-07, 'C': 10000.0} \n",
      "\n",
      "Test score: AUC = 0.50  F1 = 0.00\n"
     ]
    },
    {
     "name": "stderr",
     "output_type": "stream",
     "text": [
      "/home/kliton/anaconda3/lib/python3.5/site-packages/sklearn/metrics/classification.py:1135: UndefinedMetricWarning: F-score is ill-defined and being set to 0.0 due to no predicted samples.\n",
      "  'precision', 'predicted', average, warn_for)\n"
     ]
    }
   ],
   "source": [
    "find_best_classifier(SVC(kernel='sigmoid'), \"roc_auc\", parameter_distrib, useEx=True)"
   ]
  },
  {
   "cell_type": "markdown",
   "metadata": {},
   "source": [
    "## Validation Curves"
   ]
  },
  {
   "cell_type": "code",
   "execution_count": 81,
   "metadata": {
    "collapsed": true
   },
   "outputs": [],
   "source": [
    "from sklearn.model_selection import validation_curve"
   ]
  },
  {
   "cell_type": "code",
   "execution_count": 103,
   "metadata": {
    "collapsed": true
   },
   "outputs": [],
   "source": [
    "train_scores, valid_scores = validation_curve(SVC(), train_X, main_df.has_support_case.ravel(), 'C', np.logspace(-2, 3, num=10), scoring = \"roc_auc\", n_jobs=3)"
   ]
  },
  {
   "cell_type": "code",
   "execution_count": 114,
   "metadata": {
    "collapsed": false
   },
   "outputs": [
    {
     "data": {
      "image/png": "[encoded data removed]",
      "text/plain": [
       "<matplotlib.figure.Figure at 0x7f15b90ef2e8>"
      ]
     },
     "metadata": {},
     "output_type": "display_data"
    }
   ],
   "source": [
    "plt.xscale('log')\n",
    "plt.axis([min(np.logspace(-2, 3, num=2)), max(np.logspace(-2, 3, num=2)), 0, 1])\n",
    "plt.plot(np.logspace(-2, 3, num=10), np.mean(train_scores, axis=1))\n",
    "plt.plot(np.logspace(-2, 3, num=10), np.mean(valid_scores, axis=1))\n",
    "plt.show()"
   ]
  },
  {
   "cell_type": "code",
   "execution_count": 115,
   "metadata": {
    "collapsed": true
   },
   "outputs": [],
   "source": [
    "train_scores, valid_scores = validation_curve(SVC(), train_X, main_df.has_support_case.ravel(), 'gamma', parameter_distrib['gamma'], scoring = \"roc_auc\", n_jobs=3)"
   ]
  },
  {
   "cell_type": "code",
   "execution_count": 117,
   "metadata": {
    "collapsed": false
   },
   "outputs": [
    {
     "data": {
      "text/plain": [
       "(array([[ 0.65749235,  0.63936721,  0.61190308],\n",
       "        [ 0.65478711,  0.67218302,  0.63597977],\n",
       "        [ 0.95797459,  0.91848977,  0.82695836],\n",
       "        [ 0.99996471,  1.        ,  1.        ],\n",
       "        [ 1.        ,  1.        ,  1.        ]]),\n",
       " array([[ 0.64643613,  0.54537756,  0.64234298],\n",
       "        [ 0.62799341,  0.59289579,  0.67946366],\n",
       "        [ 0.64050812,  0.63298048,  0.56645495],\n",
       "        [ 0.58365091,  0.62262997,  0.62540579],\n",
       "        [ 0.50764526,  0.50458716,  0.50152905]]))"
      ]
     },
     "execution_count": 117,
     "metadata": {},
     "output_type": "execute_result"
    }
   ],
   "source": [
    "train_scores, valid_scores"
   ]
  },
  {
   "cell_type": "code",
   "execution_count": 116,
   "metadata": {
    "collapsed": false
   },
   "outputs": [
    {
     "data": {
      "image/png": "[encoded data removed]",
      "text/plain": [
       "<matplotlib.figure.Figure at 0x7f15b91f7438>"
      ]
     },
     "metadata": {},
     "output_type": "display_data"
    }
   ],
   "source": [
    "plt.xscale('log')\n",
    "plt.axis([min(parameter_distrib['gamma']), max(parameter_distrib['gamma']), 0, 1])\n",
    "plt.plot(parameter_distrib['gamma'], np.mean(train_scores, axis=1))\n",
    "plt.plot(parameter_distrib['gamma'], np.mean(valid_scores, axis=1))\n",
    "plt.show()"
   ]
  },
  {
   "cell_type": "markdown",
   "metadata": {},
   "source": [
    "Gamma value has its optimal value between 10e-07 to 10e-05. Beyond this value we get an overfitted model."
   ]
  },
  {
   "cell_type": "code",
   "execution_count": 138,
   "metadata": {
    "collapsed": true
   },
   "outputs": [],
   "source": [
    "train_scores, valid_scores = validation_curve(SVC(kernel='linear'), train_X, main_df.has_support_case.ravel(), 'C', parameter_distrib['C'], scoring = \"roc_auc\", n_jobs=3)"
   ]
  },
  {
   "cell_type": "code",
   "execution_count": 140,
   "metadata": {
    "collapsed": false
   },
   "outputs": [
    {
     "data": {
      "image/png": "[encoded data removed]",
      "text/plain": [
       "<matplotlib.figure.Figure at 0x7f15badd4908>"
      ]
     },
     "metadata": {},
     "output_type": "display_data"
    }
   ],
   "source": [
    "plt.xscale('log')\n",
    "plt.axis([min(np.logspace(-2, 3, num=2)), max(np.logspace(-2, 3, num=2)), 0, 1])\n",
    "plt.plot(parameter_distrib['C'], np.mean(train_scores, axis=1))\n",
    "plt.plot(parameter_distrib['C'], np.mean(valid_scores, axis=1))\n",
    "plt.show()"
   ]
  },
  {
   "cell_type": "code",
   "execution_count": 142,
   "metadata": {
    "collapsed": false
   },
   "outputs": [
    {
     "name": "stderr",
     "output_type": "stream",
     "text": [
      "/home/kliton/anaconda3/lib/python3.5/site-packages/sklearn/naive_bayes.py:472: UserWarning: alpha too small will result in numeric errors, setting alpha = 1.0e-10\n",
      "  'setting alpha = %.1e' % _ALPHA_MIN)\n",
      "/home/kliton/anaconda3/lib/python3.5/site-packages/sklearn/naive_bayes.py:472: UserWarning: alpha too small will result in numeric errors, setting alpha = 1.0e-10\n",
      "  'setting alpha = %.1e' % _ALPHA_MIN)\n",
      "/home/kliton/anaconda3/lib/python3.5/site-packages/sklearn/naive_bayes.py:472: UserWarning: alpha too small will result in numeric errors, setting alpha = 1.0e-10\n",
      "  'setting alpha = %.1e' % _ALPHA_MIN)\n"
     ]
    }
   ],
   "source": [
    "train_scores, valid_scores = validation_curve(MultinomialNB(), train_X_ex, main_df.has_support_case.ravel(), 'alpha',  np.linspace(0, 10), scoring = \"roc_auc\", n_jobs=3)"
   ]
  },
  {
   "cell_type": "code",
   "execution_count": 144,
   "metadata": {
    "collapsed": false
   },
   "outputs": [
    {
     "data": {
      "image/png": "[encoded data removed]",
      "text/plain": [
       "<matplotlib.figure.Figure at 0x7f15b90ebd30>"
      ]
     },
     "metadata": {},
     "output_type": "display_data"
    }
   ],
   "source": [
    "plt.axis([0, 10, 0, 1])\n",
    "plt.plot(np.linspace(0,10), np.mean(train_scores, axis=1))\n",
    "plt.plot(np.linspace(0, 10), np.mean(valid_scores, axis=1))\n",
    "plt.show()"
   ]
  },
  {
   "cell_type": "code",
   "execution_count": 145,
   "metadata": {
    "collapsed": true
   },
   "outputs": [],
   "source": [
    "from sklearn.ensemble import RandomForestClassifier, GradientBoostingClassifier"
   ]
  },
  {
   "cell_type": "code",
   "execution_count": 186,
   "metadata": {
    "collapsed": false
   },
   "outputs": [
    {
     "ename": "SyntaxError",
     "evalue": "invalid syntax (<ipython-input-186-66e55aff7914>, line 2)",
     "output_type": "error",
     "traceback": [
      "\u001b[0;36m  File \u001b[0;32m\"<ipython-input-186-66e55aff7914>\"\u001b[0;36m, line \u001b[0;32m2\u001b[0m\n\u001b[0;31m    1:5 + [10]\u001b[0m\n\u001b[0m     ^\u001b[0m\n\u001b[0;31mSyntaxError\u001b[0m\u001b[0;31m:\u001b[0m invalid syntax\n"
     ]
    }
   ],
   "source": [
    "#X_comb[:, range(0, 100)].shape\n",
    "1:5 + [10]"
   ]
  },
  {
   "cell_type": "code",
   "execution_count": 189,
   "metadata": {
    "collapsed": false
   },
   "outputs": [],
   "source": [
    "train_scores, valid_scores = validation_curve(RandomForestClassifier(), X_comb[:, [x for x in range(0, 100)] + [562, 563, 564]], y_comb, 'n_estimators',  [10, 50, 100, 10000], scoring = \"roc_auc\", n_jobs=3)"
   ]
  },
  {
   "cell_type": "code",
   "execution_count": 160,
   "metadata": {
    "collapsed": false
   },
   "outputs": [
    {
     "data": {
      "text/plain": [
       "array([[ 0.87703761,  0.97039177,  0.93920884],\n",
       "       [ 0.91568265,  0.99141441,  0.99211651],\n",
       "       [ 0.93321605,  0.99766304,  0.99146456],\n",
       "       [ 0.94872177,  0.99757277,  0.99394195],\n",
       "       [ 0.95995348,  0.99903713,  0.99616858]])"
      ]
     },
     "execution_count": 160,
     "metadata": {},
     "output_type": "execute_result"
    }
   ],
   "source": [
    "valid_scores"
   ]
  },
  {
   "cell_type": "code",
   "execution_count": 190,
   "metadata": {
    "collapsed": false
   },
   "outputs": [
    {
     "data": {
      "image/png": "[encoded data removed]",
      "text/plain": [
       "<matplotlib.figure.Figure at 0x7f15c8038588>"
      ]
     },
     "metadata": {},
     "output_type": "display_data"
    }
   ],
   "source": [
    "plt.axis([10, 10000, 0.8, 1])\n",
    "plt.plot([10, 50, 100, 10000], np.mean(train_scores, axis=1))\n",
    "plt.plot([10, 50, 100, 10000], np.mean(valid_scores, axis=1))\n",
    "plt.show()"
   ]
  },
  {
   "cell_type": "markdown",
   "metadata": {},
   "source": [
    "## Learning Curves"
   ]
  },
  {
   "cell_type": "code",
   "execution_count": 118,
   "metadata": {
    "collapsed": true
   },
   "outputs": [],
   "source": [
    "from sklearn.model_selection import learning_curve"
   ]
  },
  {
   "cell_type": "code",
   "execution_count": 269,
   "metadata": {
    "collapsed": true
   },
   "outputs": [],
   "source": [
    "train_sizes, train_score, test_score = learning_curve(SVC(C=100, gamma=10e-04), train_X[:, [x for x in range(0, 50)] + [562, 563, 564]], main_df.has_support_case.ravel(), cv=StratifiedKFold(shuffle=True), scoring='roc_auc', n_jobs=3)"
   ]
  },
  {
   "cell_type": "code",
   "execution_count": 270,
   "metadata": {
    "collapsed": false
   },
   "outputs": [
    {
     "data": {
      "image/png": "[encoded data removed]",
      "text/plain": [
       "<matplotlib.figure.Figure at 0x7f15b9169860>"
      ]
     },
     "metadata": {},
     "output_type": "display_data"
    }
   ],
   "source": [
    "plt.axis([train_sizes[0], train_sizes[-1], 0, 1])\n",
    "plt.plot(train_sizes, np.mean(train_score, axis=1))\n",
    "plt.plot(train_sizes, np.mean(test_score, axis=1))\n",
    "plt.show()"
   ]
  },
  {
   "cell_type": "code",
   "execution_count": 236,
   "metadata": {
    "collapsed": false
   },
   "outputs": [
    {
     "data": {
      "image/png": "[encoded data removed]",
      "text/plain": [
       "<matplotlib.figure.Figure at 0x7f15c8038dd8>"
      ]
     },
     "metadata": {},
     "output_type": "display_data"
    }
   ],
   "source": [
    "plt.axis([train_sizes[0], train_sizes[-1], 0, 1])\n",
    "plt.plot(train_sizes, np.mean(train_score, axis=1))\n",
    "plt.plot(train_sizes, np.mean(test_score, axis=1))\n",
    "plt.show()"
   ]
  },
  {
   "cell_type": "code",
   "execution_count": 271,
   "metadata": {
    "collapsed": true
   },
   "outputs": [],
   "source": [
    "from xgboost import XGBClassifier, plot_importance"
   ]
  },
  {
   "cell_type": "code",
   "execution_count": 273,
   "metadata": {
    "collapsed": false
   },
   "outputs": [],
   "source": [
    "train_sizes, train_score, test_score = learning_curve(XGBClassifier(), train_X, main_df.has_support_case.ravel(), cv=StratifiedKFold(shuffle=True), scoring='roc_auc', \n",
    "                                                      n_jobs=3)"
   ]
  },
  {
   "cell_type": "code",
   "execution_count": 276,
   "metadata": {
    "collapsed": false
   },
   "outputs": [
    {
     "data": {
      "image/png": "[encoded data removed]",
      "text/plain": [
       "<matplotlib.figure.Figure at 0x7f15badf8f98>"
      ]
     },
     "metadata": {},
     "output_type": "display_data"
    }
   ],
   "source": [
    "plt.axis([train_sizes[0], train_sizes[-1], 0, 1])\n",
    "plt.plot(train_sizes, np.mean(train_score, axis=1))\n",
    "plt.plot(train_sizes, np.mean(test_score, axis=1))\n",
    "plt.show()"
   ]
  },
  {
   "cell_type": "code",
   "execution_count": 280,
   "metadata": {
    "collapsed": false
   },
   "outputs": [],
   "source": [
    "#plot_importance(XGBClassifier().fit(train_X, main_df.has_support_case.ravel()), importance_type=\"gain\", ylim=(534, 564))\n",
    "xgbc = XGBClassifier().fit(train_X, main_df.has_support_case.ravel())"
   ]
  },
  {
   "cell_type": "code",
   "execution_count": 286,
   "metadata": {
    "collapsed": false
   },
   "outputs": [
    {
     "data": {
      "text/plain": [
       "[(3, 0.0),\n",
       " (9, 0.0),\n",
       " (12, 0.0),\n",
       " (14, 0.0),\n",
       " (16, 0.0),\n",
       " (21, 0.0),\n",
       " (23, 0.0),\n",
       " (24, 0.0),\n",
       " (25, 0.0),\n",
       " (30, 0.0),\n",
       " (32, 0.0),\n",
       " (34, 0.0),\n",
       " (35, 0.0),\n",
       " (40, 0.0),\n",
       " (46, 0.0),\n",
       " (47, 0.0),\n",
       " (48, 0.0),\n",
       " (50, 0.0),\n",
       " (51, 0.0),\n",
       " (53, 0.0),\n",
       " (54, 0.0),\n",
       " (56, 0.0),\n",
       " (59, 0.0),\n",
       " (63, 0.0),\n",
       " (67, 0.0),\n",
       " (75, 0.0),\n",
       " (76, 0.0),\n",
       " (77, 0.0),\n",
       " (78, 0.0),\n",
       " (80, 0.0),\n",
       " (81, 0.0),\n",
       " (85, 0.0),\n",
       " (88, 0.0),\n",
       " (91, 0.0),\n",
       " (95, 0.0),\n",
       " (97, 0.0),\n",
       " (99, 0.0),\n",
       " (101, 0.0),\n",
       " (104, 0.0),\n",
       " (105, 0.0),\n",
       " (106, 0.0),\n",
       " (107, 0.0),\n",
       " (111, 0.0),\n",
       " (115, 0.0),\n",
       " (116, 0.0),\n",
       " (117, 0.0),\n",
       " (119, 0.0),\n",
       " (120, 0.0),\n",
       " (121, 0.0),\n",
       " (122, 0.0),\n",
       " (123, 0.0),\n",
       " (132, 0.0),\n",
       " (133, 0.0),\n",
       " (134, 0.0),\n",
       " (137, 0.0),\n",
       " (144, 0.0),\n",
       " (146, 0.0),\n",
       " (148, 0.0),\n",
       " (151, 0.0),\n",
       " (153, 0.0),\n",
       " (155, 0.0),\n",
       " (157, 0.0),\n",
       " (160, 0.0),\n",
       " (161, 0.0),\n",
       " (162, 0.0),\n",
       " (163, 0.0),\n",
       " (165, 0.0),\n",
       " (167, 0.0),\n",
       " (172, 0.0),\n",
       " (173, 0.0),\n",
       " (179, 0.0),\n",
       " (182, 0.0),\n",
       " (188, 0.0),\n",
       " (189, 0.0),\n",
       " (190, 0.0),\n",
       " (191, 0.0),\n",
       " (194, 0.0),\n",
       " (197, 0.0),\n",
       " (198, 0.0),\n",
       " (201, 0.0),\n",
       " (203, 0.0),\n",
       " (204, 0.0),\n",
       " (207, 0.0),\n",
       " (210, 0.0),\n",
       " (212, 0.0),\n",
       " (213, 0.0),\n",
       " (214, 0.0),\n",
       " (215, 0.0),\n",
       " (216, 0.0),\n",
       " (217, 0.0),\n",
       " (221, 0.0),\n",
       " (223, 0.0),\n",
       " (226, 0.0),\n",
       " (227, 0.0),\n",
       " (228, 0.0),\n",
       " (231, 0.0),\n",
       " (232, 0.0),\n",
       " (234, 0.0),\n",
       " (235, 0.0),\n",
       " (236, 0.0),\n",
       " (238, 0.0),\n",
       " (239, 0.0),\n",
       " (241, 0.0),\n",
       " (242, 0.0),\n",
       " (248, 0.0),\n",
       " (249, 0.0),\n",
       " (250, 0.0),\n",
       " (252, 0.0),\n",
       " (254, 0.0),\n",
       " (255, 0.0),\n",
       " (258, 0.0),\n",
       " (260, 0.0),\n",
       " (262, 0.0),\n",
       " (263, 0.0),\n",
       " (269, 0.0),\n",
       " (270, 0.0),\n",
       " (271, 0.0),\n",
       " (272, 0.0),\n",
       " (273, 0.0),\n",
       " (277, 0.0),\n",
       " (282, 0.0),\n",
       " (284, 0.0),\n",
       " (287, 0.0),\n",
       " (289, 0.0),\n",
       " (290, 0.0),\n",
       " (291, 0.0),\n",
       " (293, 0.0),\n",
       " (294, 0.0),\n",
       " (296, 0.0),\n",
       " (299, 0.0),\n",
       " (301, 0.0),\n",
       " (302, 0.0),\n",
       " (303, 0.0),\n",
       " (305, 0.0),\n",
       " (308, 0.0),\n",
       " (310, 0.0),\n",
       " (312, 0.0),\n",
       " (313, 0.0),\n",
       " (314, 0.0),\n",
       " (317, 0.0),\n",
       " (318, 0.0),\n",
       " (319, 0.0),\n",
       " (320, 0.0),\n",
       " (321, 0.0),\n",
       " (322, 0.0),\n",
       " (323, 0.0),\n",
       " (325, 0.0),\n",
       " (330, 0.0),\n",
       " (331, 0.0),\n",
       " (332, 0.0),\n",
       " (333, 0.0),\n",
       " (334, 0.0),\n",
       " (335, 0.0),\n",
       " (336, 0.0),\n",
       " (339, 0.0),\n",
       " (342, 0.0),\n",
       " (344, 0.0),\n",
       " (345, 0.0),\n",
       " (348, 0.0),\n",
       " (350, 0.0),\n",
       " (351, 0.0),\n",
       " (352, 0.0),\n",
       " (357, 0.0),\n",
       " (358, 0.0),\n",
       " (359, 0.0),\n",
       " (360, 0.0),\n",
       " (365, 0.0),\n",
       " (366, 0.0),\n",
       " (367, 0.0),\n",
       " (369, 0.0),\n",
       " (370, 0.0),\n",
       " (371, 0.0),\n",
       " (372, 0.0),\n",
       " (373, 0.0),\n",
       " (374, 0.0),\n",
       " (378, 0.0),\n",
       " (381, 0.0),\n",
       " (383, 0.0),\n",
       " (384, 0.0),\n",
       " (386, 0.0),\n",
       " (387, 0.0),\n",
       " (388, 0.0),\n",
       " (390, 0.0),\n",
       " (391, 0.0),\n",
       " (392, 0.0),\n",
       " (393, 0.0),\n",
       " (395, 0.0),\n",
       " (396, 0.0),\n",
       " (397, 0.0),\n",
       " (398, 0.0),\n",
       " (399, 0.0),\n",
       " (400, 0.0),\n",
       " (401, 0.0),\n",
       " (402, 0.0),\n",
       " (403, 0.0),\n",
       " (405, 0.0),\n",
       " (408, 0.0),\n",
       " (409, 0.0),\n",
       " (410, 0.0),\n",
       " (411, 0.0),\n",
       " (412, 0.0),\n",
       " (413, 0.0),\n",
       " (414, 0.0),\n",
       " (415, 0.0),\n",
       " (416, 0.0),\n",
       " (417, 0.0),\n",
       " (418, 0.0),\n",
       " (422, 0.0),\n",
       " (423, 0.0),\n",
       " (424, 0.0),\n",
       " (428, 0.0),\n",
       " (431, 0.0),\n",
       " (432, 0.0),\n",
       " (433, 0.0),\n",
       " (434, 0.0),\n",
       " (435, 0.0),\n",
       " (436, 0.0),\n",
       " (437, 0.0),\n",
       " (438, 0.0),\n",
       " (440, 0.0),\n",
       " (441, 0.0),\n",
       " (442, 0.0),\n",
       " (444, 0.0),\n",
       " (447, 0.0),\n",
       " (449, 0.0),\n",
       " (451, 0.0),\n",
       " (452, 0.0),\n",
       " (453, 0.0),\n",
       " (456, 0.0),\n",
       " (457, 0.0),\n",
       " (458, 0.0),\n",
       " (459, 0.0),\n",
       " (460, 0.0),\n",
       " (461, 0.0),\n",
       " (462, 0.0),\n",
       " (467, 0.0),\n",
       " (468, 0.0),\n",
       " (469, 0.0),\n",
       " (472, 0.0),\n",
       " (473, 0.0),\n",
       " (475, 0.0),\n",
       " (476, 0.0),\n",
       " (477, 0.0),\n",
       " (478, 0.0),\n",
       " (479, 0.0),\n",
       " (480, 0.0),\n",
       " (482, 0.0),\n",
       " (484, 0.0),\n",
       " (486, 0.0),\n",
       " (487, 0.0),\n",
       " (488, 0.0),\n",
       " (490, 0.0),\n",
       " (492, 0.0),\n",
       " (493, 0.0),\n",
       " (495, 0.0),\n",
       " (498, 0.0),\n",
       " (499, 0.0),\n",
       " (500, 0.0),\n",
       " (502, 0.0),\n",
       " (503, 0.0),\n",
       " (504, 0.0),\n",
       " (505, 0.0),\n",
       " (506, 0.0),\n",
       " (508, 0.0),\n",
       " (509, 0.0),\n",
       " (511, 0.0),\n",
       " (512, 0.0),\n",
       " (513, 0.0),\n",
       " (514, 0.0),\n",
       " (516, 0.0),\n",
       " (517, 0.0),\n",
       " (518, 0.0),\n",
       " (519, 0.0),\n",
       " (520, 0.0),\n",
       " (521, 0.0),\n",
       " (522, 0.0),\n",
       " (524, 0.0),\n",
       " (527, 0.0),\n",
       " (529, 0.0),\n",
       " (532, 0.0),\n",
       " (533, 0.0),\n",
       " (534, 0.0),\n",
       " (536, 0.0),\n",
       " (537, 0.0),\n",
       " (541, 0.0),\n",
       " (542, 0.0),\n",
       " (544, 0.0),\n",
       " (545, 0.0),\n",
       " (548, 0.0),\n",
       " (549, 0.0),\n",
       " (555, 0.0),\n",
       " (556, 0.0),\n",
       " (557, 0.0),\n",
       " (558, 0.0),\n",
       " (559, 0.0),\n",
       " (560, 0.0),\n",
       " (561, 0.0),\n",
       " (563, 0.0),\n",
       " (1, 0.0015479876),\n",
       " (5, 0.0015479876),\n",
       " (18, 0.0015479876),\n",
       " (28, 0.0015479876),\n",
       " (31, 0.0015479876),\n",
       " (36, 0.0015479876),\n",
       " (45, 0.0015479876),\n",
       " (58, 0.0015479876),\n",
       " (60, 0.0015479876),\n",
       " (64, 0.0015479876),\n",
       " (65, 0.0015479876),\n",
       " (66, 0.0015479876),\n",
       " (69, 0.0015479876),\n",
       " (70, 0.0015479876),\n",
       " (82, 0.0015479876),\n",
       " (87, 0.0015479876),\n",
       " (89, 0.0015479876),\n",
       " (94, 0.0015479876),\n",
       " (98, 0.0015479876),\n",
       " (102, 0.0015479876),\n",
       " (108, 0.0015479876),\n",
       " (109, 0.0015479876),\n",
       " (110, 0.0015479876),\n",
       " (118, 0.0015479876),\n",
       " (124, 0.0015479876),\n",
       " (127, 0.0015479876),\n",
       " (128, 0.0015479876),\n",
       " (129, 0.0015479876),\n",
       " (131, 0.0015479876),\n",
       " (135, 0.0015479876),\n",
       " (139, 0.0015479876),\n",
       " (143, 0.0015479876),\n",
       " (145, 0.0015479876),\n",
       " (147, 0.0015479876),\n",
       " (154, 0.0015479876),\n",
       " (164, 0.0015479876),\n",
       " (170, 0.0015479876),\n",
       " (175, 0.0015479876),\n",
       " (176, 0.0015479876),\n",
       " (181, 0.0015479876),\n",
       " (183, 0.0015479876),\n",
       " (186, 0.0015479876),\n",
       " (187, 0.0015479876),\n",
       " (193, 0.0015479876),\n",
       " (195, 0.0015479876),\n",
       " (199, 0.0015479876),\n",
       " (200, 0.0015479876),\n",
       " (202, 0.0015479876),\n",
       " (205, 0.0015479876),\n",
       " (206, 0.0015479876),\n",
       " (208, 0.0015479876),\n",
       " (209, 0.0015479876),\n",
       " (211, 0.0015479876),\n",
       " (219, 0.0015479876),\n",
       " (220, 0.0015479876),\n",
       " (222, 0.0015479876),\n",
       " (224, 0.0015479876),\n",
       " (233, 0.0015479876),\n",
       " (246, 0.0015479876),\n",
       " (247, 0.0015479876),\n",
       " (251, 0.0015479876),\n",
       " (253, 0.0015479876),\n",
       " (257, 0.0015479876),\n",
       " (259, 0.0015479876),\n",
       " (264, 0.0015479876),\n",
       " (265, 0.0015479876),\n",
       " (266, 0.0015479876),\n",
       " (268, 0.0015479876),\n",
       " (275, 0.0015479876),\n",
       " (279, 0.0015479876),\n",
       " (285, 0.0015479876),\n",
       " (288, 0.0015479876),\n",
       " (292, 0.0015479876),\n",
       " (297, 0.0015479876),\n",
       " (298, 0.0015479876),\n",
       " (300, 0.0015479876),\n",
       " (307, 0.0015479876),\n",
       " (309, 0.0015479876),\n",
       " (311, 0.0015479876),\n",
       " (324, 0.0015479876),\n",
       " (326, 0.0015479876),\n",
       " (327, 0.0015479876),\n",
       " (329, 0.0015479876),\n",
       " (337, 0.0015479876),\n",
       " (338, 0.0015479876),\n",
       " (346, 0.0015479876),\n",
       " (347, 0.0015479876),\n",
       " (356, 0.0015479876),\n",
       " (361, 0.0015479876),\n",
       " (362, 0.0015479876),\n",
       " (363, 0.0015479876),\n",
       " (364, 0.0015479876),\n",
       " (368, 0.0015479876),\n",
       " (379, 0.0015479876),\n",
       " (385, 0.0015479876),\n",
       " (394, 0.0015479876),\n",
       " (419, 0.0015479876),\n",
       " (421, 0.0015479876),\n",
       " (425, 0.0015479876),\n",
       " (427, 0.0015479876),\n",
       " (443, 0.0015479876),\n",
       " (446, 0.0015479876),\n",
       " (448, 0.0015479876),\n",
       " (463, 0.0015479876),\n",
       " (464, 0.0015479876),\n",
       " (465, 0.0015479876),\n",
       " (470, 0.0015479876),\n",
       " (471, 0.0015479876),\n",
       " (481, 0.0015479876),\n",
       " (485, 0.0015479876),\n",
       " (489, 0.0015479876),\n",
       " (491, 0.0015479876),\n",
       " (494, 0.0015479876),\n",
       " (501, 0.0015479876),\n",
       " (507, 0.0015479876),\n",
       " (515, 0.0015479876),\n",
       " (523, 0.0015479876),\n",
       " (525, 0.0015479876),\n",
       " (526, 0.0015479876),\n",
       " (530, 0.0015479876),\n",
       " (538, 0.0015479876),\n",
       " (540, 0.0015479876),\n",
       " (547, 0.0015479876),\n",
       " (550, 0.0015479876),\n",
       " (551, 0.0015479876),\n",
       " (552, 0.0015479876),\n",
       " (6, 0.0030959751),\n",
       " (7, 0.0030959751),\n",
       " (20, 0.0030959751),\n",
       " (38, 0.0030959751),\n",
       " (39, 0.0030959751),\n",
       " (61, 0.0030959751),\n",
       " (62, 0.0030959751),\n",
       " (68, 0.0030959751),\n",
       " (71, 0.0030959751),\n",
       " (86, 0.0030959751),\n",
       " (96, 0.0030959751),\n",
       " (100, 0.0030959751),\n",
       " (125, 0.0030959751),\n",
       " (126, 0.0030959751),\n",
       " (142, 0.0030959751),\n",
       " (150, 0.0030959751),\n",
       " (156, 0.0030959751),\n",
       " (159, 0.0030959751),\n",
       " (166, 0.0030959751),\n",
       " (169, 0.0030959751),\n",
       " (185, 0.0030959751),\n",
       " (196, 0.0030959751),\n",
       " (218, 0.0030959751),\n",
       " (237, 0.0030959751),\n",
       " (243, 0.0030959751),\n",
       " (245, 0.0030959751),\n",
       " (261, 0.0030959751),\n",
       " (276, 0.0030959751),\n",
       " (278, 0.0030959751),\n",
       " (280, 0.0030959751),\n",
       " (281, 0.0030959751),\n",
       " (286, 0.0030959751),\n",
       " (295, 0.0030959751),\n",
       " (315, 0.0030959751),\n",
       " (328, 0.0030959751),\n",
       " (340, 0.0030959751),\n",
       " (341, 0.0030959751),\n",
       " (349, 0.0030959751),\n",
       " (353, 0.0030959751),\n",
       " (375, 0.0030959751),\n",
       " (377, 0.0030959751),\n",
       " (382, 0.0030959751),\n",
       " (389, 0.0030959751),\n",
       " (406, 0.0030959751),\n",
       " (450, 0.0030959751),\n",
       " (455, 0.0030959751),\n",
       " (474, 0.0030959751),\n",
       " (496, 0.0030959751),\n",
       " (497, 0.0030959751),\n",
       " (531, 0.0030959751),\n",
       " (535, 0.0030959751),\n",
       " (539, 0.0030959751),\n",
       " (553, 0.0030959751),\n",
       " (554, 0.0030959751),\n",
       " (44, 0.0046439627),\n",
       " (49, 0.0046439627),\n",
       " (52, 0.0046439627),\n",
       " (73, 0.0046439627),\n",
       " (79, 0.0046439627),\n",
       " (83, 0.0046439627),\n",
       " (90, 0.0046439627),\n",
       " (103, 0.0046439627),\n",
       " (113, 0.0046439627),\n",
       " (114, 0.0046439627),\n",
       " (130, 0.0046439627),\n",
       " (136, 0.0046439627),\n",
       " (138, 0.0046439627),\n",
       " (140, 0.0046439627),\n",
       " (152, 0.0046439627),\n",
       " (171, 0.0046439627),\n",
       " (174, 0.0046439627),\n",
       " (177, 0.0046439627),\n",
       " (180, 0.0046439627),\n",
       " (184, 0.0046439627),\n",
       " (192, 0.0046439627),\n",
       " (229, 0.0046439627),\n",
       " (230, 0.0046439627),\n",
       " (240, 0.0046439627),\n",
       " (256, 0.0046439627),\n",
       " (267, 0.0046439627),\n",
       " (274, 0.0046439627),\n",
       " (283, 0.0046439627),\n",
       " (316, 0.0046439627),\n",
       " (354, 0.0046439627),\n",
       " (355, 0.0046439627),\n",
       " (376, 0.0046439627),\n",
       " (426, 0.0046439627),\n",
       " (439, 0.0046439627),\n",
       " (445, 0.0046439627),\n",
       " (483, 0.0046439627),\n",
       " (528, 0.0046439627),\n",
       " (543, 0.0046439627),\n",
       " (546, 0.0046439627),\n",
       " (8, 0.0061919503),\n",
       " (41, 0.0061919503),\n",
       " (84, 0.0061919503),\n",
       " (149, 0.0061919503),\n",
       " (158, 0.0061919503),\n",
       " (168, 0.0061919503),\n",
       " (178, 0.0061919503),\n",
       " (343, 0.0061919503),\n",
       " (404, 0.0061919503),\n",
       " (407, 0.0061919503),\n",
       " (420, 0.0061919503),\n",
       " (429, 0.0061919503),\n",
       " (454, 0.0061919503),\n",
       " (466, 0.0061919503),\n",
       " (0, 0.0077399379),\n",
       " (11, 0.0077399379),\n",
       " (22, 0.0077399379),\n",
       " (26, 0.0077399379),\n",
       " (43, 0.0077399379),\n",
       " (57, 0.0077399379),\n",
       " (74, 0.0077399379),\n",
       " (112, 0.0077399379),\n",
       " (141, 0.0077399379),\n",
       " (225, 0.0077399379),\n",
       " (430, 0.0077399379),\n",
       " (562, 0.0077399379),\n",
       " (13, 0.0092879254),\n",
       " (37, 0.0092879254),\n",
       " (42, 0.0092879254),\n",
       " (72, 0.0092879254),\n",
       " (92, 0.0092879254),\n",
       " (564, 0.0092879254),\n",
       " (4, 0.010835913),\n",
       " (15, 0.010835913),\n",
       " (29, 0.010835913),\n",
       " (33, 0.010835913),\n",
       " (304, 0.010835913),\n",
       " (306, 0.010835913),\n",
       " (380, 0.010835913),\n",
       " (510, 0.010835913),\n",
       " (55, 0.012383901),\n",
       " (244, 0.012383901),\n",
       " (27, 0.013931888),\n",
       " (2, 0.015479876),\n",
       " (93, 0.015479876),\n",
       " (19, 0.017027864),\n",
       " (17, 0.018575851),\n",
       " (10, 0.029411765)]"
      ]
     },
     "execution_count": 286,
     "metadata": {},
     "output_type": "execute_result"
    }
   ],
   "source": [
    "sorted(zip(range(0, 565), xgbc.feature_importances_), key = lambda x: x[1])"
   ]
  },
  {
   "cell_type": "code",
   "execution_count": 285,
   "metadata": {
    "collapsed": false
   },
   "outputs": [
    {
     "data": {
      "text/plain": [
       "565"
      ]
     },
     "execution_count": 285,
     "metadata": {},
     "output_type": "execute_result"
    }
   ],
   "source": [
    "len(xgbc.feature_importances_)"
   ]
  },
  {
   "cell_type": "code",
   "execution_count": null,
   "metadata": {
    "collapsed": true
   },
   "outputs": [],
   "source": []
  }
 ],
 "metadata": {
  "anaconda-cloud": {},
  "kernelspec": {
   "display_name": "Python [conda root]",
   "language": "python",
   "name": "conda-root-py"
  },
  "language_info": {
   "codemirror_mode": {
    "name": "ipython",
    "version": 3
   },
   "file_extension": ".py",
   "mimetype": "text/x-python",
   "name": "python",
   "nbconvert_exporter": "python",
   "pygments_lexer": "ipython3",
   "version": "3.5.2"
  }
 },
 "nbformat": 4,
 "nbformat_minor": 1
}
